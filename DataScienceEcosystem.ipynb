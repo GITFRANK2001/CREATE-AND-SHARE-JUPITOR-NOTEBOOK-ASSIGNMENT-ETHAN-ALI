{
 "cells": [
  {
   "cell_type": "markdown",
   "id": "35ff27e5-989c-47dd-a1d2-788741f2f5da",
   "metadata": {},
   "source": [
    "# Data Science Tools and Ecosystem"
   ]
  },
  {
   "cell_type": "markdown",
   "id": "c36b37c1-2e4a-4900-aad0-082ea69ab6cf",
   "metadata": {},
   "source": [
    "In this notebook, Data Science Tools and Ecosystem are summarized."
   ]
  },
  {
   "cell_type": "markdown",
   "id": "0bee185a-171b-4e9f-93bc-40f38c9d7232",
   "metadata": {},
   "source": [
    "1. Python\n",
    "2. R\n",
    "3. SQL"
   ]
  },
  {
   "cell_type": "markdown",
   "id": "bc0c9f89-858d-4f96-99f5-dde389f40dfa",
   "metadata": {},
   "source": [
    "Some of the commonly used libraries used by Data Scientists include:\n",
    "\n",
    "1. Numpy\n",
    "2. TensorFlow\n",
    "3. PyTorch"
   ]
  },
  {
   "cell_type": "markdown",
   "id": "55e6a5fa-199a-48fc-9124-82f16b6b7945",
   "metadata": {},
   "source": [
    "|DATA SCIENCE TOOLS|\n",
    "--------------------\n",
    "|PYTORCH|\n",
    "|JUPTYER NOTEBOOKS|\n",
    " |ML FLOW|"
   ]
  },
  {
   "cell_type": "markdown",
   "id": "f5ecb9ca-47c2-4c8f-9b50-fe1efcf72535",
   "metadata": {},
   "source": [
    "### Below are a few examples of evaluating arithmetic expressions in Python\n"
   ]
  },
  {
   "cell_type": "code",
   "execution_count": 2,
   "id": "14990777-9701-450a-9582-f32264cd547b",
   "metadata": {},
   "outputs": [
    {
     "data": {
      "text/plain": [
       "17"
      ]
     },
     "execution_count": 2,
     "metadata": {},
     "output_type": "execute_result"
    }
   ],
   "source": [
    "#This a simple arithmetic expression to mutiply then add integers.\n",
    "\n",
    "(3*4)+5"
   ]
  },
  {
   "cell_type": "code",
   "execution_count": 4,
   "id": "ea4609f8-8961-417a-9b1b-b0dcd6d7c2e1",
   "metadata": {},
   "outputs": [
    {
     "data": {
      "text/plain": [
       "3.3333333333333335"
      ]
     },
     "execution_count": 4,
     "metadata": {},
     "output_type": "execute_result"
    }
   ],
   "source": [
    "# This will convert 200 minutes to hours by diving by 60\n",
    "#200 minutes into hours\n",
    "200/60"
   ]
  },
  {
   "cell_type": "markdown",
   "id": "7b35e46d-b4bc-43b2-b8c1-d3514f118d5b",
   "metadata": {},
   "source": [
    "**OBJECTIVES**\n",
    "\n",
    "- List popular languages for data science\n",
    "- Commonly used libraries used in data science\n",
    "- List data science tools\n"
   ]
  },
  {
   "cell_type": "markdown",
   "id": "73a93476-a3ca-47c1-b243-00bb1ca34a50",
   "metadata": {},
   "source": [
    "## Author\n",
    "\n",
    "ETHAN ALI"
   ]
  },
  {
   "cell_type": "code",
   "execution_count": null,
   "id": "3440ac44-4f52-4e07-a785-739cb5416fcd",
   "metadata": {},
   "outputs": [],
   "source": []
  }
 ],
 "metadata": {
  "kernelspec": {
   "display_name": "Python 3 (ipykernel)",
   "language": "python",
   "name": "python3"
  },
  "language_info": {
   "codemirror_mode": {
    "name": "ipython",
    "version": 3
   },
   "file_extension": ".py",
   "mimetype": "text/x-python",
   "name": "python",
   "nbconvert_exporter": "python",
   "pygments_lexer": "ipython3",
   "version": "3.11.7"
  }
 },
 "nbformat": 4,
 "nbformat_minor": 5
}
